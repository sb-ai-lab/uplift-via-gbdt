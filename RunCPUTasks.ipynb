{
 "cells": [
  {
   "cell_type": "markdown",
   "id": "66d7ebad",
   "metadata": {},
   "source": [
    "## Run CPU baselines"
   ]
  },
  {
   "cell_type": "code",
   "execution_count": null,
   "id": "fe907f76",
   "metadata": {},
   "outputs": [],
   "source": [
    "import os\n",
    "import subprocess\n",
    "from joblib import Parallel, delayed\n",
    "from multiprocessing import Queue\n",
    "\n",
    "from itertools import product"
   ]
  },
  {
   "cell_type": "markdown",
   "id": "4e6113ae",
   "metadata": {},
   "source": [
    "### Params"
   ]
  },
  {
   "cell_type": "code",
   "execution_count": null,
   "id": "0ff50249",
   "metadata": {},
   "outputs": [],
   "source": [
    "# parameters\n",
    "N_JOBS = 8\n",
    "N_PARALLEL_TASKS = 3\n",
    "PYTHON = 'rapids-24.04/bin/python'"
   ]
  },
  {
   "cell_type": "markdown",
   "id": "28e8332c",
   "metadata": {},
   "source": [
    "### Utils"
   ]
  },
  {
   "cell_type": "code",
   "execution_count": null,
   "id": "00fff967",
   "metadata": {},
   "outputs": [],
   "source": [
    "# run script to execute the task\n",
    "def get_script(path, runner, tuner, model):\n",
    "    \"\"\"\n",
    "    Get run script for the task\n",
    "    \"\"\"\n",
    "    command = f\"\"\"\n",
    "    {PYTHON} run_experiment.py \\\n",
    "        --path {os.path.join('datasets', path)} \\\n",
    "        --njobs {N_JOBS} \\\n",
    "        --seed 42 \\\n",
    "        --device 0 \\\n",
    "        --runner {runner} \\\n",
    "        --tuner {tuner} \\\n",
    "        --model {model} \\\n",
    "        --config config.yaml\n",
    "    \"\"\"\n",
    "    return command\n",
    "\n",
    "\n",
    "def run(path, model, runner, tuner, ):\n",
    "    \"\"\"\n",
    "    Run task\n",
    "    \"\"\"\n",
    "    # generate script\n",
    "    script = get_script(path, runner, tuner, model)\n",
    "    print(script)\n",
    "    # run task\n",
    "    subprocess.check_output(script, shell=True, stderr=subprocess.STDOUT,)\n",
    "    \n",
    "    return "
   ]
  },
  {
   "cell_type": "markdown",
   "id": "c93aae1e",
   "metadata": {},
   "source": [
    "### Tasks list"
   ]
  },
  {
   "cell_type": "code",
   "execution_count": null,
   "id": "866379f0",
   "metadata": {},
   "outputs": [],
   "source": [
    "# tasks list\n",
    "datasets = [\n",
    "    \n",
    "    'synth1', \n",
    "    'hillstrom', \n",
    "    'criteo',\n",
    "    'lenta',\n",
    "    'megafon',\n",
    "]\n",
    "\n",
    "# tuple: (type of model, run function, objective with param space)\n",
    "models = [\n",
    "    # t learner\n",
    "    ('xgb_t', 'meta', 'xgb_single'), \n",
    "    # x learner\n",
    "    ('xgb_x', 'meta', 'xgb_single'), \n",
    "    # r learner\n",
    "    ('xgb_r', 'meta', 'xgb_single'), \n",
    "    # dr learner\n",
    "    ('xgb_dr', 'meta', 'xgb_single'), \n",
    "    # Causal RF\n",
    "    ('crf', 'crf', 'crf')\n",
    "]\n",
    "\n",
    "# combine datasets and models\n",
    "tasks = product(\n",
    "    map(\n",
    "        lambda x: x[0] + '_' + str(x[1]), product(datasets, range(5))\n",
    "    ),\n",
    "    models\n",
    ")"
   ]
  },
  {
   "cell_type": "markdown",
   "id": "1e056806",
   "metadata": {},
   "source": [
    "### Run "
   ]
  },
  {
   "cell_type": "code",
   "execution_count": null,
   "id": "20916be9",
   "metadata": {},
   "outputs": [],
   "source": [
    "with Parallel(N_PARALLEL_TASKS, backend='threading') as p:\n",
    "    p(delayed(run)(d, *m) for (d, m) in tasks)"
   ]
  }
 ],
 "metadata": {
  "kernelspec": {
   "display_name": "rapids-env",
   "language": "python",
   "name": "rapids-env"
  },
  "language_info": {
   "codemirror_mode": {
    "name": "ipython",
    "version": 3
   },
   "file_extension": ".py",
   "mimetype": "text/x-python",
   "name": "python",
   "nbconvert_exporter": "python",
   "pygments_lexer": "ipython3",
   "version": "3.10.14"
  }
 },
 "nbformat": 4,
 "nbformat_minor": 5
}
